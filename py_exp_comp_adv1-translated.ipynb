{
 "cells": [
  {
   "cell_type": "markdown",
   "metadata": {},
   "source": [
    "<figure>\n",
    "  <IMG SRC=\"https://raw.githubusercontent.com/mbakker7/exploratory_computing_with_python/master/tudelft_logo.png\" WIDTH=250 ALIGN=\"right\">\n",
    "</figure>\n",
    "\n",
    "# Metode Komputing Eksplorasi Menggunakan Python\n",
    "*oleh Mark Bakker*\n",
    "## Topik Lanjutan Notebook 1: Menghitung titik nol sebuah fungsi"
   ]
  },
  {
   "cell_type": "markdown",
   "metadata": {},
   "source": [
    "Menghitung titik nol sebuah fungsi, atau mencari akar dari sebuah fungsi, adalah hal yang umum dilakukan dalam metode komputing eksplorasi. Paket bernama `scipy` menyediakan berbagai metode yang dapat digunakan untuk menghampiri titik nol dari sebuah fungsi dengan satu variabel atau lebih. Dalam Notebook ini, kita akan mencoba dua metode untuk menghitung akar sebuah fungsi; Metode Bagi-Dua (*Bisection*) dan Metode Newton. Di bagian akhir dari Notebook ini, kita akan menggunakan fungsi-fungsi yang disediakan oleh `scipy` untuk memproduksi hasil yang sama dengan kedua metode di atas."
   ]
  },
  {
   "cell_type": "code",
   "execution_count": 1,
   "metadata": {
    "collapsed": false
   },
   "outputs": [],
   "source": [
    "import numpy as np\n",
    "import matplotlib.pyplot as plt\n",
    "%matplotlib inline"
   ]
  },
  {
   "cell_type": "markdown",
   "metadata": {},
   "source": [
    "### Metode Bagi-Dua (*Bisection*)\n",
    "Metode Bagi-Dua adalah metode sederhana untuk menemukan akar dari sebuah fungsi. Pertama-tama, fungsi yang akan dihitung harus didefinisikan, e.g. $f(x)$, beserta dua nilai dari variabel $x$, i.e. $x_1$ dan $x_2$, di mana nilai 0 dari fungsi $f(x)$ terletak di antara kedua variabel tersebut. Karena nilai 0 dari $f(x)$ terletak di antara $x_1$ dan $x_2$, maka $f(x)$ akan memiliki nilai positif pada salah satu variabel $x$ dan nilai negatif pada variabel yang lain. Dengan kata lain, hasil dari operasi perkalian antara $f(x)$ di titik $x_1$ dan $x_2$ akan memiliki nilai negatif: $f(x_1)f(x_2)<0$. Apabila kondisi ini terpenuhi, dan $f(x)$ adalah fungsi yang kontinu, hipotesis bahwa $f(x)$ bernilai 0 di antara titik $x_1$ dan $x_2$ berlaku. Metode Bagi-Dua menghampiri nilai 0 dari fungsi $f(x)$ menggunakan iterasi di mana jarak antara dua variabel yang mendefinisikan lokasi akar dari fungsi $f(x)$ akan dipotong setengahnya pada tiap iterasi. Pemotongan jarak dilakukan dengan menghitung titik tengah dari kedua variabel $x$, disebut $x_m$ dalam Notebook ini, dan nilai $f(x)$ pada titik tersebut. Langkah selanjutnya adalah mengganti salah satu dari dua variabel $x$ inisial, $x_1$ dan $x_2$, dengan $x_m$. Hal ini harus dilakukan dengan tetap memastikan bahwa $f(x)$ memiliki nilai positif pada salah satu titik dan nilai negatif di titik yang lainnya. Pemotongan interval ini terus dilakukan sampai kira-kira jarak antara dua variabel $x$ menjadi sangat kecil. Algoritma yang digunakan dalam Metode Bagi-Dua adalah sebagai berikut:\n",
    "1. Hitung $f(x)$ pada $x_1$ dan $x_2$, jangan lupa pastikan bahwa $f(x_1)f(x_2)<0$.\n",
    "2. Hitung $x_m = \\frac{1}{2}(x_1+x_2)$.\n",
    "3. Hitung $f(x_m)$.\n",
    "4. Apabila $f(x_m)f(x_2)<0$, tukar $x_1$ dengan $x_m$, selain itu, tukar $x_2$ dengan $x_m$.\n",
    "5. Tes apakah $|x_1-x_2|<\\varepsilon$, di mana $\\varepsilon$ adalah variabel yang anda definisikan sebagai batas toleransi terhadap interval antara kedua variabel $x$ yang dapat diterima. Apabila pernyataan di atas tidak diterima maka ulangi perhitungan dari langkah ke dua."
   ]
  },
  {
   "cell_type": "markdown",
   "metadata": {},
   "source": [
    "Ingat bahwa sebuah fungsi dapat digunakan sebagai argumen dari fungsi yang lainnya dalam lingkungan Python. Contoh kode di bawah ini menggambarkan sebuah fungsi, `square me`, yang akan mengembalikan nilai kuadrat dari fungsi-fungsi dengan satu variabel, i.e. $f(x)$, pada lokasi $x$ yang diberikan. Dalam contoh ini, fungsi `square me` digunakan bersama-sama dengan `cos`."
   ]
  },
  {
   "cell_type": "code",
   "execution_count": 2,
   "metadata": {
    "collapsed": false
   },
   "outputs": [
    {
     "name": "stdout",
     "output_type": "stream",
     "text": [
      "Hasil dari fungsi square me:  0.427249983096\n",
      "Hasil dari secara langsung menghitung nilai kuadrat:  0.427249983096\n"
     ]
    }
   ],
   "source": [
    "def square_me( func, x ):\n",
    "    return func(x)**2\n",
    "print('Hasil dari fungsi square me: ',square_me( np.cos, 4 ))\n",
    "print('Hasil dari secara langsung menghitung nilai kuadrat: ',np.cos(4)**2)"
   ]
  },
  {
   "cell_type": "markdown",
   "metadata": {},
   "source": [
    "### Latihan 1. <a name=\"back1\"></a>Metode Bagi-Dua\n",
    "\n",
    "*Langkah 1.*\n",
    "Buatlah sebuah fungsi dalam Python untuk menghitung $f(x)=\\frac{1}{2}-\\text{e}^{-x}$ dan plot nilai dari fungsi tersebut pada $x=0$ sampai dengan $x=4$. Perhatikan bahwa $f(x)$ bernilai 0 di antara ke dua batas-batas yang diberikan. Tentunya nilai 0 dari fungsi $f(x)$ tidak sulit untuk ditentukan dalam contoh ini. Tujuan utama dari Latihan 1 adalah untuk memastikan bahwa kode yang telah kita buat dapat berfungsi sebagaimana mestinya."
   ]
  },
  {
   "cell_type": "code",
   "execution_count": 33,
   "metadata": {
    "collapsed": false
   },
   "outputs": [
    {
     "data": {
      "text/plain": [
       "[<matplotlib.lines.Line2D at 0x29986d26b00>]"
      ]
     },
     "execution_count": 33,
     "metadata": {},
     "output_type": "execute_result"
    },
    {
     "data": {
      "image/png": "[encoded data removed]",
      "text/plain": [
       "<matplotlib.figure.Figure at 0x29986c7f908>"
      ]
     },
     "metadata": {},
     "output_type": "display_data"
    }
   ],
   "source": [
    "def coba (x):\n",
    "    return 0.5-np.exp(-x)\n",
    "x=np.arange(0,5,0.01)\n",
    "y=coba(x)\n",
    "plt.plot(x,y)"
   ]
  },
  {
   "cell_type": "markdown",
   "metadata": {},
   "source": [
    "*Langkah 2.* Buatlah fungsi lainnya yang bertujuan untuk mengaplikasikan Metode Bagi-Dua dalam perhitungan anda. Beri nama fungsi ini, `bisectionmet`. Fungsi `bisectionmet` yang anda buat harus mencakup argumen-argumen di bawah ini:\n",
    "\n",
    "1. Fungsi yang menggambarkan perhitungan untuk mencari nilai 0 dari $f(x)$.\n",
    "2. $x_1$ dan $x_2$.\n",
    "3. `tol` sebagai batas toleransi interval untuk menghentikan iterasi dan sebagai salah satu argumen kata kunci dari fungsi `bisection`. Gunakan 0.001 sebagai nilai default untuk `tol`.\n",
    "4. `nmax` sebagai jumlah iterasi maksimum dan argumen kata kunci yang lainnya. Gunakan 10, sebagai contoh, sebagai nilai default dari `nmax`.\n",
    "\n",
    "Ketika fungsi `bisectionmet` yang anda buat dipanggil, fungsi ini harus mampu mengembalikan nilai dari variabel $x$ di mana nilai dari $f(x)$ menghampiri 0. Selain dari itu, fungsi anda juga harus dapat memberikan peringatan apabila jumlah maksimum dari iterasi telah digunakan sebelum batas toleransi tercapai.\n",
    "\n",
    "Dalam menulis kode anda, aplikasikan poin 2 sampai 5 pada algoritma yang dijelaskan di atas dalam sebuah *loop* sebanyak `nmax` kali. Iterasi dihentikan ketika `tol` telah tercapai, mungkin sebelum iterasi mencapai `nmax` kali, dengan menggunakan perintah `break`. Hal ini penting untuk dimasukkan untuk menghindarkan anda dari iterasi tak hingga seperti yang akan terjadi apabila anda menggunakan perintah `while` untuk mengeksekusi metode iterasi.\n",
    "\n",
    "Selain itu, ada baiknya untuk menampilkan nilai-nilai dari $x_1$, $x_2$, $f(x_1)$, dan $f(x_2)$ di layar komputer anda pada setiap iterasi sehingga anda dapat mengevaluasi kinerja dari kode yang telah anda tulis (a.k.a *code debugging*).\n",
    "\n",
    "Gunakan fungsi `bisectionmet` yang telah anda buat untuk menghitung nilai 0 dari $f(x)$ yang telah anda definisikan pada *Langkah 1*. Pastikan bahwa nilai dari `tol` adalah 0.001, anda dapat mengatur batas toleransi ini sendiri."
   ]
  },
  {
   "cell_type": "code",
   "execution_count": 36,
   "metadata": {
    "collapsed": false
   },
   "outputs": [
    {
     "name": "stdout",
     "output_type": "stream",
     "text": [
      "(0.6931495666503906, 16, 7.62939453125e-06)\n"
     ]
    }
   ],
   "source": [
    "def bisectionmet(func,x1,x2,nmax,tol):\n",
    "    for i in range(nmax):\n",
    "        y1=func(x1)\n",
    "        y2=func(x2)\n",
    "        xm=0.5*(x1+x2)\n",
    "        ym=func(xm)\n",
    "        if y2*ym<0:\n",
    "            x1=xm\n",
    "        else:\n",
    "            x2=xm\n",
    "        if abs(x1-x2)<tol:\n",
    "            break\n",
    "    return (x1+x2)/2,i,abs(x1-x2)\n",
    "nilainol=bisectionmet(coba,0.,1.,100,0.00001)      \n",
    "print (nilainol)\n",
    "        \n",
    "        "
   ]
  },
  {
   "cell_type": "markdown",
   "metadata": {},
   "source": [
    "*Langkah 3.*\n",
    "\n",
    "Buktikan bahwa fungsi `bisectionmet` yang telah anda buat dapat bekerja dengan benar dengan menghitung akar dari $f(x)=cos(x)$ di antara $x_1=0$ dan $x_2=3$. Gunakan pernyataan `bisectionmet(np.cos, 0, 3, tol=1e-6, nmax=30)` untuk memanggil fungsi `bisectionmet` anda."
   ]
  },
  {
   "cell_type": "code",
   "execution_count": 40,
   "metadata": {
    "collapsed": false
   },
   "outputs": [
    {
     "name": "stdout",
     "output_type": "stream",
     "text": [
      "(1.5707963705062866, 21, 7.152557373046875e-07)\n"
     ]
    }
   ],
   "source": [
    "nilainol=bisectionmet(np.cos, 0., 3., 30,1e-6)      \n",
    "print (nilainol)\n",
    "        "
   ]
  },
  {
   "cell_type": "markdown",
   "metadata": {},
   "source": [
    "<a href=\"#ex1answer\">Kunci Jawaban untuk Latihan 1</a>"
   ]
  },
  {
   "cell_type": "markdown",
   "metadata": {},
   "source": [
    "### Metode Newton"
   ]
  },
  {
   "cell_type": "markdown",
   "metadata": {},
   "source": [
    "Metode Bagi-Dua yang telah kita pelajari di awal Notebook ini adalah metode yang secara kasar menghitung lokasi dari titik nol dari sebuah fungsi, di mana metode ini secara pasti dapat digunakan apabila anda dapat mendefinisikan secara benar lokasi dua variabel $x$ di mana nilai nol dari $f(x)$ terletak di antara dua batas-batas tersebut dan $f(x)$ adalah fungsi yang kontinu. Secara teknis, Metode Bagi-Dua tidaklah efisien untuk digunakan karena memerlukan evaluasi yang berulang serta kemampuan pengguna untuk menentukan interval yang kira-kira mengandung $f(x)=0$. Alternatif yang lebih cerdas adalah dengan menggunakan Metode Newton, juga dikenal sebagai Metode Newton-Raphson, namun sayangnya metode ini tidak memiliki garansi 100% fungsional, seperti yang akan dijelaskan di bawah ini.\n",
    "\n",
    "Mari kita coba untuk menghitung akar dari fungsi yang direpresentasikan dengan kurva berwarna biru pada grafik di bawah ini. Metode Newton diawali dengan anda mendefinisikan titik mula; $x_0$ pada contoh di bawah ini dan diperlihatkan dengan titik berwarna biru. Langkah selanjutnya adalah dengan mengepaskan sebuah garis lurus yang melewati titik $(x,y)=(x_0,f(x_0))$ sebagaimana sehingga garis ini menyinggung kurva $f(x_0)$ (garis merah). Perpotongan antara garis berwarna merah ini dengan sumbu horizontal adalah perkiraan lokasi titik nol dari fungsi $f(x)$ yang selanjutnya, i.e. $x_1$ (titik merah). Proses ini dilanjutkan sampai nilai $f(x)$ menjadi sangat kecil. Singkatnya, buat sebuah garis lurus yang melewati titik $(x,y)=(x_1,f(x_1))$ dan menyinggung kurva fungsi $f(x)$ di titik $x_1$. Perpotongan antara garis ini dengan sumbu horizontal adalah estimasi terhadap nilai $f(x)=0$ yang berikutnya, etc., etc.\n",
    "\n",
    "\n",
    "<img src=\"http://i.imgur.com/tK1EOtD.png\" alt=\"Newton's method on wikipedia\">\n",
    "\n",
    "Persamaan yang dapat digunakan untuk menghasilkan sebuah garis lurus dengan *slope*=$a$ dan melewati titik $x_n,f(x_n)$ adalah:\n",
    "\n",
    "$y = a(x-x_n) + f(x_n)$\n",
    "\n",
    "Karena kita menginginkan agar garis ini menyinggung kurva dari fungsi $f(x)$ pada $x=x_n$, maka set *slope* $a$ agar bernilai sama dengan turunan dari $f(x)$ pada $x_n$, i.e. $a=f'(x_n)$. Untuk menemukan perpotongan antara garis ini dengan sumbu horizontal, hitung nilai dari variabel $x$ di mana $y=0$. Titik perpotongan inilah yang menjadi estimasi nilai nol dari fungsi $f(x)$ selanjutnya, $x_{n+1}$. Maka dari itu, hitung:\n",
    "\n",
    "$0 = f'(x_n) (x_{n+1}-x_n) + f(x_n)$\n",
    "\n",
    "yang akan memberikan kita:\n",
    "\n",
    "$\\boxed{x_{n+1} = x_n - f(x_n)/f'(x_n)}$\n",
    "\n",
    "Pencarian titik perpotongan ini akan berhenti saat $|f(x)|$  mencapai nilai di bawah batas toleransi yang telah kita tentukan sebelumnya.\n",
    "\n",
    "Animasi dari Metode Newton dapat anda temukan dengan mencari halaman *Wikipedia* dari Metode Newton seperti yang tampak pada gambar di bawah ini (jangan khawatir, kita akan belajar bagaimana membuat animasi seperti ini dalam waktu dekat).\n",
    "\n",
    "<img src=\"http://upload.wikimedia.org/wikipedia/commons/e/e0/NewtonIteration_Ani.gif\" alt=\"Newton's method on wikipedia\" width=\"400px\">"
   ]
  },
  {
   "cell_type": "markdown",
   "metadata": {},
   "source": [
    "Metode Newton dapat bekerja apabila fungsi yang akan anda evaluasi bersifat stabil dan anda berhasil mendefinisikan titik mula pencarian yang cukup dekat ke titik nol dari fungsi tersebut. Apabila dua kondisi ini dapat terpenuhi, Metode Newton dapat menemukan akar (atau akar-akar) dari fungsi dengan cepat. Apabila kondisi-kondisi tersebut tidak terpenuhi maka Metode Newton tidak akan mampu menghampiri nilai 0 dari fungsi. Kekurangan lain dari Metode Newton adalah anda perlu menghitung turunan dari fungsi yang akan dievaluasi. Hal lain yang cukup aneh adalah nilai dari $f(x)$ pada estimasi yang baru tidak selalu lebih kecil dari estimasi yang sebelumnya, seperti yang ditunjukan pada $f(x)$ pada $x_2$ dan $x_3$."
   ]
  },
  {
   "cell_type": "markdown",
   "metadata": {},
   "source": [
    "### Latihan 2. <a name=\"back2\"></a>Metode Newton\n",
    "Buatlah sebuah fungsi dalam Python untuk mengaplikasikan Metode Newton dengan nama `newtonsmet` dan uji apakah fungsi yang anda buat dapat bekerja dengan mengevaluasi nilai 0 dari fungsi $f(x)=\\frac{1}{2}-\\text{e}^{-x}$, seperti yang telah kita gunakan pada Latihan 1. Gunakan $x_0=1$ sebagai titik mula pencarian. Fungsi `newtonsmet` yang anda buat harus mencakup argumen-argumen berikut:\n",
    "\n",
    "1. Fungsi $f(x)$ yang akan anda evaluasi.\n",
    "2. Turunan dari fungsi yang akan anda evaluasi.\n",
    "3. Titik mula pencarian $x_0$.\n",
    "4. Batas toleransi, `tol`, sebagai kriteria yang digunakan untuk menghentikan penghitungan. Gunakan `tol` sebagai sebuah argumen kata kunci dengan nilai default $10^{-6}$.\n",
    "5. Jumlah maksimum iterasi, `nmax`. Gunakan `nmax` sebagai sebuah argumen kata kunci dengan nilai default 10.\n",
    "\n",
    "Fungsi `newtonsmet` yang anda buat harus mampu mengembalikan nilai dari variabel $x$ di mana fungsi $f(x)$ menghampiri nilai 0. Fungsi anda juga harus mampu menghasilkan peringatan apabila jumlah maksimum iterasi telah digunakan sebelum batas toleransi tercapai.\n",
    "\n",
    "Selain itu, ada baiknya apabila anda mengatur agar fungsi anda menampilkan nilai dari variabel $x_{n+1}$ dan nilai dari fungsi $f(x)$ pada titik tersebut sehingga anda dapat mengevaluasi apakah fungsi `newtonsmet` anda bekerja dengan benar. Apabila argumen-argumen di atas terimplementasi dengan baik, anda dapat menghampiri titik nol dari fungsi yang anda evaluasi dengan batas toleransi kurang dari $10^{-6}$ hanya dengan 3 buah iterasi, jika anda mulai pada $x=1$. Hitung berapa jumlah iterasi yang anda butuhkan apabila anda mengatur titik mula menjadi $x=4$?"
   ]
  },
  {
   "cell_type": "code",
   "execution_count": 58,
   "metadata": {
    "collapsed": false
   },
   "outputs": [
    {
     "name": "stdout",
     "output_type": "stream",
     "text": [
      "iterasi ke  4  nilai x = 0.69314718056\n",
      "-2.03392858111e-13\n"
     ]
    },
    {
     "data": {
      "text/plain": [
       "0.99749498660405445"
      ]
     },
     "execution_count": 58,
     "metadata": {},
     "output_type": "execute_result"
    }
   ],
   "source": [
    "def fa(x):\n",
    "    return 0.5-np.exp(-x)\n",
    "def fb(x):\n",
    "    return np.exp(-x)\n",
    "\n",
    "def newtonsmet(awal,funca,funcb,nmax,tol):\n",
    "    for i in range (nmax):\n",
    "        x=awal-funca(awal)/funcb(awal)\n",
    "        if abs(x-awal)<tol:\n",
    "            print('iterasi ke ',i+1,' nilai x =',x)\n",
    "            break\n",
    "        else:\n",
    "            awal=x\n",
    "    return x\n",
    "x=newtonsmet(1,fa,fb,100,1e-6)\n",
    "print(fa(x))       "
   ]
  },
  {
   "cell_type": "markdown",
   "metadata": {},
   "source": [
    "Tunjukkan bahwa fungsi `newtonsmet` anda benar-benar bekerja dengan mengevaluasi titik nol dari $\\sin(x)$. Seperti yang anda ketahui, fungsi $\\sin(x)$ memiliki banyak titik di mana nilai dari fungsi tersebut adalah 0; $-2\\pi$, $-\\pi$, $0$, $pi$, $2\\pi$, etc. Lokasi manakah yang anda temui apabila anda mulai pada $x=1$ dan $x=1.5$?"
   ]
  },
  {
   "cell_type": "code",
   "execution_count": 62,
   "metadata": {
    "collapsed": false
   },
   "outputs": [
    {
     "name": "stdout",
     "output_type": "stream",
     "text": [
      "iterasi ke  5  nilai x = 0.0\n",
      "0.0\n"
     ]
    }
   ],
   "source": [
    "def newtonsmet(awal,funca,funcb,nmax,tol):\n",
    "    for i in range (nmax):\n",
    "        x=awal-funca(awal)/funcb(awal)\n",
    "        if abs(x-awal)<tol:\n",
    "            print('iterasi ke ',i+1,' nilai x =',x)\n",
    "            break\n",
    "        else:\n",
    "            awal=x\n",
    "    return x\n",
    "x=newtonsmet(1.,np.sin,np.cos,100,1e-6)\n",
    "print(np.sin(x))  "
   ]
  },
  {
   "cell_type": "markdown",
   "metadata": {},
   "source": [
    "<a href=\"#ex2answer\">Kunci Jawaban untuk Latihan 2</a>"
   ]
  },
  {
   "cell_type": "markdown",
   "metadata": {},
   "source": [
    "### Metode pencarian akar yang tersedia di dalam paket `scipy`\n",
    "Paket `scipy` memiliki modul `optimize`, singkatnya `scipy.optimize`, yang mencakup beberapa metode yang dapat digunakan untuk mencari nilai minimum dari sebuah fungsi dan untuk mencari nilai nol dari fungsi tersebut. Dua dari metode yang dapat digunakan untuk menghitung akar (atau akar-akar) dari sebuah fungsi adalah, `bisect` dan `newton`."
   ]
  },
  {
   "cell_type": "markdown",
   "metadata": {},
   "source": [
    "### Latihan <a name=\"back3\"></a>3\n",
    "Gunakan metode `newton` yang tersedia di dalam `scipy.optimize` untuk menemukan lokasi dari nilai dari variabel $x$ yang akan memberikan $\\ln(x^2)=2$ (i.e. temukan nilai 0 dari $\\ln(x^2)-2$). Tunjukkan bahwa nilai dari variabel $x$ yang telah anda temukan benar memberikan $\\ln(x^2)=2$."
   ]
  },
  {
   "cell_type": "code",
   "execution_count": 80,
   "metadata": {
    "collapsed": false
   },
   "outputs": [
    {
     "name": "stdout",
     "output_type": "stream",
     "text": [
      "2.7182818284582426 -5.90416604496e-13\n",
      "2.71828182846 -1.06581410364e-14\n"
     ]
    }
   ],
   "source": [
    "import scipy.optimize as so\n",
    "\n",
    "def g(x):\n",
    "    return np.log(x**2)-2\n",
    "x=so.bisect(g,1,1000,)\n",
    "print(x,g(x)) \n",
    "x=so.newton(g,1)\n",
    "print(x,g(x))"
   ]
  },
  {
   "cell_type": "markdown",
   "metadata": {},
   "source": [
    "### Optimisasi"
   ]
  },
  {
   "cell_type": "markdown",
   "metadata": {},
   "source": [
    "### Kunci Jawaban"
   ]
  },
  {
   "cell_type": "markdown",
   "metadata": {},
   "source": [
    "<a name=\"ex1answer\">Kunci Jawaban untuk Latihan 1</a>"
   ]
  },
  {
   "cell_type": "code",
   "execution_count": 23,
   "metadata": {
    "collapsed": false
   },
   "outputs": [
    {
     "data": {
      "text/plain": [
       "<matplotlib.lines.Line2D at 0x299864998d0>"
      ]
     },
     "execution_count": 23,
     "metadata": {},
     "output_type": "execute_result"
    },
    {
     "data": {
      "image/png": "[encoded data removed]",
      "text/plain": [
       "<matplotlib.figure.Figure at 0x2998693a7b8>"
      ]
     },
     "metadata": {},
     "output_type": "display_data"
    }
   ],
   "source": [
    "def f(x):\n",
    "    return 0.5 - np.exp(-x)\n",
    "\n",
    "x = np.linspace(0,4,100)\n",
    "y = f(x)\n",
    "plt.plot(x,y)\n",
    "plt.axhline(0,color='r',ls='--')"
   ]
  },
  {
   "cell_type": "code",
   "execution_count": 24,
   "metadata": {
    "collapsed": false
   },
   "outputs": [
    {
     "name": "stdout",
     "output_type": "stream",
     "text": [
      "0 2.0 -0.5 0.364664716763\n",
      "0 1.0 -0.5 0.132120558829\n",
      "0.5 1.0 -0.106530659713 0.132120558829\n",
      "0.5 0.75 -0.106530659713 0.027633447259\n",
      "0.625 0.75 -0.035261428519 0.027633447259\n",
      "0.6875 0.75 -0.00283157797094 0.027633447259\n",
      "0.6875 0.71875 -0.00283157797094 0.0126389232864\n",
      "0.6875 0.703125 -0.00283157797094 0.0049641030738\n",
      "0.6875 0.6953125 -0.00283157797094 0.00108148841353\n",
      "0.69140625 0.6953125 -0.000871223429674 0.00108148841353\n",
      "0.69140625 0.693359375 -0.000871223429674 0.000106085964203\n",
      "0.6923828125 0.693359375 -0.000382330131828 0.000106085964203\n",
      "lokasi dari titik nol fungsi dan nilai dari fungsi:  0.6923828125 -0.000382330131828\n"
     ]
    }
   ],
   "source": [
    "def bisectionmet(func, x1, x2, tol=1e-3, nmax=10):\n",
    "    f1 = func(x1)\n",
    "    f2 = func(x2)\n",
    "    assert f1*f2< 0, 'Error: nilai 0 tidak terdapat di antara x1 dan x2'\n",
    "    for i in range(nmax):\n",
    "        xm = 0.5*(x1+x2)\n",
    "        fm = func(xm)\n",
    "        if fm*f2 < 0:\n",
    "            x1 = xm\n",
    "            f1 = fm\n",
    "        else:\n",
    "            x2 = xm\n",
    "            f2 = fm\n",
    "        print(x1,x2,f1,f2)\n",
    "        if abs(x1-x2) < tol:\n",
    "            return x1\n",
    "    print('Jumlah maksimum iterasi telah tercapai')\n",
    "    return x1\n",
    "    \n",
    "xzero = bisectionmet(f,0,4,nmax=20)  \n",
    "print('lokasi dari titik nol fungsi dan nilai dari fungsi: ',xzero,f(xzero))  "
   ]
  },
  {
   "cell_type": "code",
   "execution_count": "",
   "metadata": {
    "collapsed": false
   },
   "outputs": [],
   "source": [
    "xzero = bisection(np.cos, 0, 3, tol=1e-6, nmax=30)\n",
    "print('fungsi cos(x) bernilai nol di antara 0 dan pi pada titik:',xzero)\n",
    "print('error relatif:',(xzero-np.pi/2)/(np.pi/2))"
   ]
  },
  {
   "cell_type": "markdown",
   "metadata": {},
   "source": [
    "<a href=\"#back1\">Back to Exercise 1</a>\n",
    "\n",
    "<a name=\"ex2answer\">Answers to Exercise 2</a>"
   ]
  },
  {
   "cell_type": "code",
   "execution_count": 63,
   "metadata": {
    "collapsed": false
   },
   "outputs": [
    {
     "name": "stdout",
     "output_type": "stream",
     "text": [
      "titik mula di x=1\n",
      "0.64085908577 -0.0268396291473\n",
      "0.691803676235 -0.000672203615638\n",
      "0.693146278462 -4.5104915336e-07\n",
      "batas toleransi tercapai dalam 3 iterasi\n",
      "xzero,f(xzero)  0.693146278462 -4.5104915336e-07\n",
      "titik mulai di x=4\n",
      "-22.2990750166 -4834652137.25\n",
      "-21.2990750167 -1778569126.38\n",
      "-20.299075017 -654299016.164\n",
      "-19.2990750177 -240703156.293\n",
      "-18.2990750198 -88549742.4933\n",
      "-17.2990750254 -32575629.6522\n",
      "-16.2990750408 -11983904.3001\n",
      "-15.2990750825 -4408631.88486\n",
      "-14.2990751959 -1621844.90201\n",
      "-13.2990755042 -596643.264099\n",
      "-12.2990763422 -219492.658455\n",
      "-11.2990786202 -80746.7044133\n",
      "-10.2990848124 -29704.920376\n",
      "-9.29910164433 -10927.697389\n",
      "-8.29914739753 -4019.94309239\n",
      "-7.29927176193 -1478.72230925\n",
      "-6.29960977738 -543.859447306\n",
      "-5.30052828812 -199.942673493\n",
      "-4.30302276693 -73.4229080399\n",
      "-3.3097865701 -26.879281291\n",
      "-2.32804855421 -9.75790424455\n",
      "-1.37679145414 -3.4621684118\n",
      "-0.502984979508 -1.15365002236\n",
      "0.194653581712 -0.323119752408\n",
      "0.587208554986 -0.0558768205856\n",
      "0.687728703544 -0.00271659175616\n",
      "0.693132527092 -7.32678775317e-06\n",
      "0.693147180453 -5.36808375529e-11\n",
      "batas toleransi tercapai dalam 28 iterasi\n",
      "xzero,f(xzero)  0.693147180453 -5.36808375529e-11\n"
     ]
    }
   ],
   "source": [
    "def f(x):\n",
    "    return 0.5 - np.exp(-x)\n",
    "    \n",
    "def fp(x):\n",
    "    return np.exp(-x)\n",
    "\n",
    "def newtonsmet(func, funcp, xs, tol=1e-6, nmax=10):\n",
    "    f = func(xs)\n",
    "    for i in range(nmax):\n",
    "        fp = funcp(xs)\n",
    "        xs = xs - f/fp\n",
    "        f = func(xs)\n",
    "        print(xs,func(xs))\n",
    "        if abs(f) < tol: \n",
    "            print('batas toleransi tercapai dalam',i+1,'iterasi')\n",
    "            break\n",
    "    if abs(f) > tol:\n",
    "        print('Jumlah maksimum iterasi telah tercapai sebelum nilai 0 berhasil didekati')\n",
    "    return xs\n",
    "\n",
    "print('titik mula di x=1')\n",
    "xzero = newtonsmet(f,fp,1)\n",
    "print('xzero,f(xzero) ',xzero,f(xzero))\n",
    "\n",
    "print('titik mulai di x=4')\n",
    "xzero = newtonsmet(f,fp,4,nmax=40)\n",
    "print('xzero,f(xzero) ',xzero,f(xzero))"
   ]
  },
  {
   "cell_type": "code",
   "execution_count": 64,
   "metadata": {
    "collapsed": false
   },
   "outputs": [
    {
     "name": "stdout",
     "output_type": "stream",
     "text": [
      "-0.557407724655 -0.52898809709\n",
      "0.0659364519248 0.0658886845842\n",
      "-9.57219193251e-05 -9.57219191789e-05\n",
      "2.92356620141e-13 2.92356620141e-13\n",
      "batas toleransi tercapai dalam 4 iterasi\n",
      "titik mula di x=1\n",
      "xzero,sin(xzero)  2.92356620141e-13 2.92356620141e-13\n",
      "-12.6014199472 -0.035042157161\n",
      "-12.5663562551 1.43592405006e-05\n",
      "-12.5663706144 -1.28649811974e-15\n",
      "batas toleransi tercapai dalam 3 iterasi\n",
      "titik mula di x=1.5\n",
      "xzero,sin(xzero)  -12.5663706144 -1.28649811974e-15\n",
      "xzero / pi  -4.0\n"
     ]
    }
   ],
   "source": [
    "xzero = newtonsmet(np.sin, np.cos, 1)\n",
    "print('titik mula di x=1')\n",
    "print('xzero,sin(xzero) ', xzero, np.sin(xzero))\n",
    "\n",
    "xzero = newtonsmet(np.sin, np.cos, 1.5)\n",
    "print('titik mula di x=1.5')\n",
    "print('xzero,sin(xzero) ', xzero, np.sin(xzero))\n",
    "print('xzero / pi ', xzero/np.pi)"
   ]
  },
  {
   "cell_type": "markdown",
   "metadata": {},
   "source": [
    "<a href=\"#back2\">Kembali ke Latihan 2</a>\n",
    "\n",
    "<a name=\"ex3answer\">Kunci Jawaban untuk Latihan 3</a>"
   ]
  },
  {
   "cell_type": "code",
   "execution_count": 70,
   "metadata": {
    "collapsed": false
   },
   "outputs": [
    {
     "name": "stdout",
     "output_type": "stream",
     "text": [
      "nilai dari x: 2.71828182846\n",
      "ln(x^2): 2.0\n"
     ]
    }
   ],
   "source": [
    "import scipy.optimize as so\n",
    "\n",
    "def g(x):\n",
    "    return np.log(x**2)-2\n",
    "\n",
    "x = so.newton(g,1)\n",
    "print('nilai dari x:', x)\n",
    "print('ln(x^2):', np.log(x**2))"
   ]
  },
  {
   "cell_type": "markdown",
   "metadata": {},
   "source": [
    "<a href=\"#back3\">Kembali ke Latihan 3</a>"
   ]
  },
  {
   "cell_type": "code",
   "execution_count": null,
   "metadata": {
    "collapsed": true
   },
   "outputs": [],
   "source": []
  }
 ],
 "metadata": {
  "kernelspec": {
   "display_name": "Python [Root]",
   "language": "python",
   "name": "Python [Root]"
  },
  "language_info": {
   "codemirror_mode": {
    "name": "ipython",
    "version": 3
   },
   "file_extension": ".py",
   "mimetype": "text/x-python",
   "name": "python",
   "nbconvert_exporter": "python",
   "pygments_lexer": "ipython3",
   "version": "3.5.2"
  }
 },
 "nbformat": 4,
 "nbformat_minor": 0
}
